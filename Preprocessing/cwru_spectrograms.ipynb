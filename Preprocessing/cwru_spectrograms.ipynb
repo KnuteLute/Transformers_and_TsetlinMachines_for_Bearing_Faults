{
 "cells": [
  {
   "attachments": {},
   "cell_type": "markdown",
   "metadata": {},
   "source": [
    "# CWRU Spectrograms"
   ]
  },
  {
   "cell_type": "code",
   "execution_count": null,
   "metadata": {},
   "outputs": [],
   "source": [
    "import numpy as np\n",
    "import scipy.io\n",
    "import os"
   ]
  },
  {
   "attachments": {},
   "cell_type": "markdown",
   "metadata": {},
   "source": [
    "Change input and output folders as necessary:"
   ]
  },
  {
   "cell_type": "code",
   "execution_count": null,
   "metadata": {},
   "outputs": [],
   "source": [
    "# Folder for CWRU .mat-files\n",
    "input_folder_path = r'/home/sigurds/data/cwru/48k'\n",
    "\n",
    "# Desired output folder\n",
    "output_folder_path = r'/home/sigurds/data/cwru/spectrogram_48k'"
   ]
  },
  {
   "attachments": {},
   "cell_type": "markdown",
   "metadata": {},
   "source": [
    "Do not change:"
   ]
  },
  {
   "cell_type": "code",
   "execution_count": null,
   "metadata": {},
   "outputs": [],
   "source": [
    "# .mat-file dataframe key for time-series data\n",
    "key = 3\n",
    "\n",
    "# Default time length of all CWRU files\n",
    "sequence_length = 1000"
   ]
  },
  {
   "cell_type": "code",
   "execution_count": null,
   "metadata": {},
   "outputs": [],
   "source": [
    "def read_mat_file(file_path, position):\n",
    "    \"\"\"Returns values at specified position in .mat-file\"\"\"\n",
    "    mat_contents = scipy.io.loadmat(file_path)\n",
    "    values_list = list(mat_contents.values())\n",
    "    return values_list[position]\n",
    "\n",
    "def generate_spectrogram(data, seq):\n",
    "    \"\"\"Generate spectrogram from time-series data\"\"\"\n",
    "    samp_per_timestamp = data.shape[0] // seq\n",
    "    spectrogram = []\n",
    "    for i in range(seq):\n",
    "        segment = data[i * samp_per_timestamp:(i + 1) * samp_per_timestamp, 0]\n",
    "        fft_result = np.fft.fft(segment)\n",
    "        spectrogram.append(np.abs(fft_result))\n",
    "    return spectrogram\n",
    "\n",
    "def save_to_mat_file(output_path, file_name, spectrogram):\n",
    "    full_output_path = os.path.join(output_path, 'spectrogram_' + file_name)\n",
    "    scipy.io.savemat(full_output_path, {'spectrogram': spectrogram})\n",
    "\n",
    "def transpose_spectrogram_DB(spectrogram):\n",
    "    \"\"\"Converts the spectrogram data into decibels\"\"\"\n",
    "    spectrogram = np.transpose(spectrogram)\n",
    "    \n",
    "    spectrogram_max = spectrogram.max()\n",
    "    if spectrogram_max != 0:\n",
    "        spectrogram = spectrogram / spectrogram_max\n",
    "    spectrogram = 20 * np.log10(spectrogram + 1e-6)\n",
    "    spectrogram = split_spectrogram(spectrogram)\n",
    "    return spectrogram\n",
    "\n",
    "def split_spectrogram(spectrogram):\n",
    "    \"\"\"Removes redundant mirrored data in bottom half of spectrogram\"\"\"\n",
    "    split_index = spectrogram.shape[0]//2\n",
    "    upper_half = spectrogram[:split_index, :]\n",
    "    return upper_half "
   ]
  },
  {
   "attachments": {},
   "cell_type": "markdown",
   "metadata": {},
   "source": [
    "Generate spectrograms and save to output folder:"
   ]
  },
  {
   "cell_type": "code",
   "execution_count": null,
   "metadata": {},
   "outputs": [],
   "source": [
    "# Generate spectrogram for each .mat-file and save to output folder with original file name\n",
    "for file_name in os.listdir(input_folder_path):\n",
    "    if file_name.endswith('.mat'):\n",
    "        full_file_path = os.path.join(input_folder_path, file_name)\n",
    "        data = read_mat_file(full_file_path, key)\n",
    "        if data is not None and len(data) >= sequence_length:\n",
    "            spectrogram = generate_spectrogram(data, sequence_length)\n",
    "            spectrogram_DB = transpose_spectrogram_DB(spectrogram)\n",
    "            save_to_mat_file(output_folder_path, file_name, spectrogram_DB) \n",
    "        else:\n",
    "            print(f\"Skipping file {file_name}, insufficient data.\")"
   ]
  }
 ],
 "metadata": {
  "language_info": {
   "name": "python"
  },
  "orig_nbformat": 4
 },
 "nbformat": 4,
 "nbformat_minor": 2
}
